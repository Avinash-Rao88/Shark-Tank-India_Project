{
 "cells": [
  {
   "cell_type": "markdown",
   "id": "4d696723",
   "metadata": {},
   "source": [
    "### Q.1: Find the number of episodes? "
   ]
  },
  {
   "cell_type": "code",
   "execution_count": 1,
   "id": "610699ea",
   "metadata": {},
   "outputs": [],
   "source": [
    "import pandas as pd\n",
    "import numpy as np\n",
    "import seaborn as sn\n",
    "import matplotlib.pyplot as plt\n",
    "import warnings\n",
    "warnings.filterwarnings('ignore')"
   ]
  },
  {
   "cell_type": "code",
   "execution_count": 3,
   "id": "bd322cb5",
   "metadata": {},
   "outputs": [
    {
     "name": "stdout",
     "output_type": "stream",
     "text": [
      "Requirement already satisfied: xlrd in c:\\users\\suravi\\anaconda3\\lib\\site-packages (2.0.1)\n",
      "Note: you may need to restart the kernel to use updated packages.\n"
     ]
    }
   ],
   "source": [
    "pip install xlrd"
   ]
  },
  {
   "cell_type": "code",
   "execution_count": 2,
   "id": "1cb034ea",
   "metadata": {},
   "outputs": [
    {
     "data": {
      "text/html": [
       "<div>\n",
       "<style scoped>\n",
       "    .dataframe tbody tr th:only-of-type {\n",
       "        vertical-align: middle;\n",
       "    }\n",
       "\n",
       "    .dataframe tbody tr th {\n",
       "        vertical-align: top;\n",
       "    }\n",
       "\n",
       "    .dataframe thead th {\n",
       "        text-align: right;\n",
       "    }\n",
       "</style>\n",
       "<table border=\"1\" class=\"dataframe\">\n",
       "  <thead>\n",
       "    <tr style=\"text-align: right;\">\n",
       "      <th></th>\n",
       "      <th>episode_number</th>\n",
       "      <th>pitch_number</th>\n",
       "      <th>brand_name</th>\n",
       "      <th>idea</th>\n",
       "      <th>deal</th>\n",
       "      <th>pitcher_ask_amount</th>\n",
       "      <th>ask_equity</th>\n",
       "      <th>ask_valuation</th>\n",
       "      <th>deal_amount</th>\n",
       "      <th>deal_equity</th>\n",
       "      <th>...</th>\n",
       "      <th>ashneer_deal</th>\n",
       "      <th>anupam_deal</th>\n",
       "      <th>aman_deal</th>\n",
       "      <th>namita_deal</th>\n",
       "      <th>vineeta_deal</th>\n",
       "      <th>peyush_deal</th>\n",
       "      <th>ghazal_deal</th>\n",
       "      <th>total_sharks_invested</th>\n",
       "      <th>amount_per_shark</th>\n",
       "      <th>equity_per_shark</th>\n",
       "    </tr>\n",
       "  </thead>\n",
       "  <tbody>\n",
       "    <tr>\n",
       "      <th>0</th>\n",
       "      <td>1</td>\n",
       "      <td>1</td>\n",
       "      <td>BluePine Industries</td>\n",
       "      <td>Frozen Momos</td>\n",
       "      <td>1</td>\n",
       "      <td>50.0</td>\n",
       "      <td>5.0</td>\n",
       "      <td>1000.00</td>\n",
       "      <td>75.0</td>\n",
       "      <td>16.00</td>\n",
       "      <td>...</td>\n",
       "      <td>1</td>\n",
       "      <td>0</td>\n",
       "      <td>1</td>\n",
       "      <td>0</td>\n",
       "      <td>1</td>\n",
       "      <td>0</td>\n",
       "      <td>0</td>\n",
       "      <td>3</td>\n",
       "      <td>25.0</td>\n",
       "      <td>5.333333</td>\n",
       "    </tr>\n",
       "    <tr>\n",
       "      <th>1</th>\n",
       "      <td>1</td>\n",
       "      <td>2</td>\n",
       "      <td>Booz scooters</td>\n",
       "      <td>Renting e-bike for mobility in private spaces</td>\n",
       "      <td>1</td>\n",
       "      <td>40.0</td>\n",
       "      <td>15.0</td>\n",
       "      <td>266.67</td>\n",
       "      <td>40.0</td>\n",
       "      <td>50.00</td>\n",
       "      <td>...</td>\n",
       "      <td>1</td>\n",
       "      <td>0</td>\n",
       "      <td>0</td>\n",
       "      <td>0</td>\n",
       "      <td>1</td>\n",
       "      <td>0</td>\n",
       "      <td>0</td>\n",
       "      <td>2</td>\n",
       "      <td>20.0</td>\n",
       "      <td>25.000000</td>\n",
       "    </tr>\n",
       "    <tr>\n",
       "      <th>2</th>\n",
       "      <td>1</td>\n",
       "      <td>3</td>\n",
       "      <td>Heart up my Sleeves</td>\n",
       "      <td>Detachable Sleeves</td>\n",
       "      <td>1</td>\n",
       "      <td>25.0</td>\n",
       "      <td>10.0</td>\n",
       "      <td>250.00</td>\n",
       "      <td>25.0</td>\n",
       "      <td>30.00</td>\n",
       "      <td>...</td>\n",
       "      <td>0</td>\n",
       "      <td>1</td>\n",
       "      <td>0</td>\n",
       "      <td>0</td>\n",
       "      <td>1</td>\n",
       "      <td>0</td>\n",
       "      <td>0</td>\n",
       "      <td>2</td>\n",
       "      <td>12.5</td>\n",
       "      <td>15.000000</td>\n",
       "    </tr>\n",
       "    <tr>\n",
       "      <th>3</th>\n",
       "      <td>2</td>\n",
       "      <td>4</td>\n",
       "      <td>Tagz Foods</td>\n",
       "      <td>Healthy Potato Chips</td>\n",
       "      <td>1</td>\n",
       "      <td>70.0</td>\n",
       "      <td>1.0</td>\n",
       "      <td>7000.00</td>\n",
       "      <td>70.0</td>\n",
       "      <td>2.75</td>\n",
       "      <td>...</td>\n",
       "      <td>1</td>\n",
       "      <td>0</td>\n",
       "      <td>0</td>\n",
       "      <td>0</td>\n",
       "      <td>0</td>\n",
       "      <td>0</td>\n",
       "      <td>0</td>\n",
       "      <td>1</td>\n",
       "      <td>70.0</td>\n",
       "      <td>2.750000</td>\n",
       "    </tr>\n",
       "    <tr>\n",
       "      <th>4</th>\n",
       "      <td>2</td>\n",
       "      <td>5</td>\n",
       "      <td>Head and Heart</td>\n",
       "      <td>Brain Development Course</td>\n",
       "      <td>0</td>\n",
       "      <td>50.0</td>\n",
       "      <td>5.0</td>\n",
       "      <td>1000.00</td>\n",
       "      <td>0.0</td>\n",
       "      <td>0.00</td>\n",
       "      <td>...</td>\n",
       "      <td>0</td>\n",
       "      <td>0</td>\n",
       "      <td>0</td>\n",
       "      <td>0</td>\n",
       "      <td>0</td>\n",
       "      <td>0</td>\n",
       "      <td>0</td>\n",
       "      <td>0</td>\n",
       "      <td>0.0</td>\n",
       "      <td>0.000000</td>\n",
       "    </tr>\n",
       "  </tbody>\n",
       "</table>\n",
       "<p>5 rows × 28 columns</p>\n",
       "</div>"
      ],
      "text/plain": [
       "   episode_number  pitch_number           brand_name  \\\n",
       "0               1             1  BluePine Industries   \n",
       "1               1             2        Booz scooters   \n",
       "2               1             3  Heart up my Sleeves   \n",
       "3               2             4           Tagz Foods   \n",
       "4               2             5       Head and Heart   \n",
       "\n",
       "                                            idea  deal  pitcher_ask_amount  \\\n",
       "0                                   Frozen Momos     1                50.0   \n",
       "1  Renting e-bike for mobility in private spaces     1                40.0   \n",
       "2                             Detachable Sleeves     1                25.0   \n",
       "3                           Healthy Potato Chips     1                70.0   \n",
       "4                       Brain Development Course     0                50.0   \n",
       "\n",
       "   ask_equity  ask_valuation  deal_amount  deal_equity  ...  ashneer_deal  \\\n",
       "0         5.0        1000.00         75.0        16.00  ...             1   \n",
       "1        15.0         266.67         40.0        50.00  ...             1   \n",
       "2        10.0         250.00         25.0        30.00  ...             0   \n",
       "3         1.0        7000.00         70.0         2.75  ...             1   \n",
       "4         5.0        1000.00          0.0         0.00  ...             0   \n",
       "\n",
       "   anupam_deal  aman_deal  namita_deal  vineeta_deal  peyush_deal  \\\n",
       "0            0          1            0             1            0   \n",
       "1            0          0            0             1            0   \n",
       "2            1          0            0             1            0   \n",
       "3            0          0            0             0            0   \n",
       "4            0          0            0             0            0   \n",
       "\n",
       "   ghazal_deal  total_sharks_invested  amount_per_shark  equity_per_shark  \n",
       "0            0                      3              25.0          5.333333  \n",
       "1            0                      2              20.0         25.000000  \n",
       "2            0                      2              12.5         15.000000  \n",
       "3            0                      1              70.0          2.750000  \n",
       "4            0                      0               0.0          0.000000  \n",
       "\n",
       "[5 rows x 28 columns]"
      ]
     },
     "execution_count": 2,
     "metadata": {},
     "output_type": "execute_result"
    }
   ],
   "source": [
    "data = pd.read_excel('EDA_Shark_Tank_India.xlsx')\n",
    "data.head()"
   ]
  },
  {
   "cell_type": "code",
   "execution_count": 3,
   "id": "a9300691",
   "metadata": {},
   "outputs": [
    {
     "name": "stdout",
     "output_type": "stream",
     "text": [
      "Total number of episodes are: 35\n"
     ]
    }
   ],
   "source": [
    "number_of_episodes = data['episode_number'].nunique()\n",
    "print('Total number of episodes are:' , number_of_episodes)"
   ]
  },
  {
   "cell_type": "code",
   "execution_count": null,
   "id": "c109564c",
   "metadata": {},
   "outputs": [],
   "source": []
  },
  {
   "cell_type": "markdown",
   "id": "5adc81cd",
   "metadata": {},
   "source": [
    "### Q.2: Max, min , mean of asked amount,asked equity, asked valuation? "
   ]
  },
  {
   "cell_type": "code",
   "execution_count": 4,
   "id": "f75fdb1f",
   "metadata": {},
   "outputs": [
    {
     "data": {
      "text/html": [
       "<div>\n",
       "<style scoped>\n",
       "    .dataframe tbody tr th:only-of-type {\n",
       "        vertical-align: middle;\n",
       "    }\n",
       "\n",
       "    .dataframe tbody tr th {\n",
       "        vertical-align: top;\n",
       "    }\n",
       "\n",
       "    .dataframe thead th {\n",
       "        text-align: right;\n",
       "    }\n",
       "</style>\n",
       "<table border=\"1\" class=\"dataframe\">\n",
       "  <thead>\n",
       "    <tr style=\"text-align: right;\">\n",
       "      <th></th>\n",
       "      <th>pitcher_ask_amount</th>\n",
       "      <th>ask_equity</th>\n",
       "      <th>ask_valuation</th>\n",
       "    </tr>\n",
       "  </thead>\n",
       "  <tbody>\n",
       "    <tr>\n",
       "      <th>mean</th>\n",
       "      <td>319.854709</td>\n",
       "      <td>5.188034</td>\n",
       "      <td>3852.462479</td>\n",
       "    </tr>\n",
       "    <tr>\n",
       "      <th>min</th>\n",
       "      <td>0.001010</td>\n",
       "      <td>0.250000</td>\n",
       "      <td>0.010000</td>\n",
       "    </tr>\n",
       "    <tr>\n",
       "      <th>max</th>\n",
       "      <td>30000.000000</td>\n",
       "      <td>25.000000</td>\n",
       "      <td>120000.000000</td>\n",
       "    </tr>\n",
       "  </tbody>\n",
       "</table>\n",
       "</div>"
      ],
      "text/plain": [
       "      pitcher_ask_amount  ask_equity  ask_valuation\n",
       "mean          319.854709    5.188034    3852.462479\n",
       "min             0.001010    0.250000       0.010000\n",
       "max         30000.000000   25.000000  120000.000000"
      ]
     },
     "execution_count": 4,
     "metadata": {},
     "output_type": "execute_result"
    }
   ],
   "source": [
    "data[[\"pitcher_ask_amount\",\"ask_equity\",\"ask_valuation\"]].agg({\"max\",\"min\",\"mean\"})"
   ]
  },
  {
   "cell_type": "markdown",
   "id": "439de2d7",
   "metadata": {},
   "source": [
    "### Q.3: Max & Min asked- equity,asked-valuation and asked amount episode-wise?"
   ]
  },
  {
   "cell_type": "code",
   "execution_count": 14,
   "id": "2a8edce3",
   "metadata": {},
   "outputs": [
    {
     "name": "stdout",
     "output_type": "stream",
     "text": [
      "Maximum asked episode wise:\n",
      "    Episode Wise  Max Asked Equity  Max Asked Amount  Max Asked Valuation\n",
      "0              1              15.0              50.0              1000.00\n",
      "1              2               5.0              70.0              7000.00\n",
      "2              3               4.0             100.0             40000.00\n",
      "3              4              10.0              75.0              1875.00\n",
      "4              5              20.0             100.0             10000.00\n",
      "5              6              10.0             100.0             10000.00\n",
      "6              7               7.5             100.0              7500.00\n",
      "7              8               7.5              56.0              2000.00\n",
      "8              9               5.0             100.0              2000.00\n",
      "9             10               5.0              30.0              1500.00\n",
      "10            11              25.0           30000.0            120000.00\n",
      "11            12               5.0              75.0              1875.00\n",
      "12            13              10.0              50.0              2500.00\n",
      "13            14               5.0             100.0              3333.33\n",
      "14            15               5.0              50.0              1250.00\n",
      "15            16               7.0              80.0              2250.00\n",
      "16            17              10.0             150.0              5000.00\n",
      "17            18               4.0             100.0             10000.00\n",
      "18            19               8.0             125.0             10000.00\n",
      "19            20               5.0              65.0              3250.00\n",
      "20            21              10.0             100.0              1250.00\n",
      "21            22               5.0              80.0              3000.00\n",
      "22            23               5.0             100.0             10000.00\n",
      "23            24              10.0              40.0               500.00\n",
      "24            25               4.0             150.0              7500.00\n",
      "25            26              10.0              65.0              6500.00\n",
      "26            27              10.0             100.0             10000.00\n",
      "27            28               5.0              90.0              1875.00\n",
      "28            29               5.0             100.0              2857.14\n",
      "29            30              15.0             300.0             30000.00\n",
      "30            31              10.0              75.0              3750.00\n",
      "31            32               7.0             200.0              5000.00\n",
      "32            33              10.0              40.0              3500.00\n",
      "33            34              10.0             100.0             10000.00\n",
      "34            35               8.0             100.0              4000.00\n"
     ]
    }
   ],
   "source": [
    "# Max Asked Equity, Valuation and Amount Episode Wise\n",
    "\n",
    "max_episode_wise1 = data.groupby('episode_number')['ask_equity'].max()\n",
    "max_episode_wise2 = data.groupby('episode_number')['pitcher_ask_amount'].max()\n",
    "max_episode_wise3 = data.groupby('episode_number')['ask_valuation'].max()\n",
    "\n",
    "max_episode_wise = pd.DataFrame({\n",
    "    'Episode Wise': max_episode_wise2.index,\n",
    "    'Max Asked Equity': max_episode_wise1.values,\n",
    "    'Max Asked Amount': max_episode_wise2.values,\n",
    "    'Max Asked Valuation': max_episode_wise3.values\n",
    "})\n",
    "\n",
    "print('Maximum asked episode wise:')\n",
    "print(max_episode_wise)"
   ]
  },
  {
   "cell_type": "code",
   "execution_count": 17,
   "id": "89242eda",
   "metadata": {},
   "outputs": [
    {
     "name": "stdout",
     "output_type": "stream",
     "text": [
      "Minimum asked episode wise:\n",
      "    Episode Wise  Min Asked Equity  Min Asked Amount  Min Asked Valuation\n",
      "0              1              5.00          25.00000               250.00\n",
      "1              2              1.00          50.00000              1000.00\n",
      "2              3              0.25          50.00000              1875.00\n",
      "3              4              4.00          50.00000               500.00\n",
      "4              5              1.00          10.00000                50.00\n",
      "5              6              1.00          45.00000               500.00\n",
      "6              7              1.00          50.00000               666.67\n",
      "7              8              2.50          30.00000               746.67\n",
      "8              9              2.50          50.00000              1000.00\n",
      "9             10              2.00          25.00000               500.00\n",
      "10            11              5.00          30.00000               300.00\n",
      "11            12              3.00          40.00000               800.00\n",
      "12            13              2.00          30.00000               500.00\n",
      "13            14              3.00          45.00000               900.00\n",
      "14            15              3.00           5.00000               100.00\n",
      "15            16              2.00          45.00000              1071.43\n",
      "16            17              3.00          50.00000               500.00\n",
      "17            18              1.00          50.00000              1250.00\n",
      "18            19              1.25          15.00000               300.00\n",
      "19            20              2.00          35.00000               700.00\n",
      "20            21              5.00          35.00000               470.00\n",
      "21            22              2.00          50.00000              1500.00\n",
      "22            23              1.00          30.00000               600.00\n",
      "23            24              8.00          20.00000               200.00\n",
      "24            25              2.00          50.00000              1250.00\n",
      "25            26              1.00          50.00000               500.00\n",
      "26            27              1.00           0.00101                 0.01\n",
      "27            28              4.00          50.00000              1000.00\n",
      "28            29              3.00          75.00000              1500.00\n",
      "29            30              1.00          50.00000               500.00\n",
      "30            31              2.00          50.00000               500.00\n",
      "31            32              1.00          35.00000               583.33\n",
      "32            33              1.00          35.00000               400.00\n",
      "33            34              1.00          30.00000               400.00\n",
      "34            35              2.50          40.00000               500.00\n"
     ]
    }
   ],
   "source": [
    "# Min Asked Equity, Valuation and Amount Episode Wise\n",
    "\n",
    "min_episode_wise1 = data.groupby('episode_number')['ask_equity'].min()\n",
    "min_episode_wise2 = data.groupby('episode_number')['pitcher_ask_amount'].min()\n",
    "min_episode_wise3 = data.groupby('episode_number')['ask_valuation'].min()\n",
    "\n",
    "min_episode_wise = pd.DataFrame({\n",
    "    'Episode Wise': min_episode_wise2.index,\n",
    "    'Min Asked Equity': min_episode_wise1.values,\n",
    "    'Min Asked Amount': min_episode_wise2.values,\n",
    "    'Min Asked Valuation': min_episode_wise3.values\n",
    "})\n",
    "\n",
    "print('Minimum asked episode wise:')\n",
    "print(min_episode_wise)"
   ]
  },
  {
   "cell_type": "code",
   "execution_count": null,
   "id": "48faf2d1",
   "metadata": {},
   "outputs": [],
   "source": []
  },
  {
   "cell_type": "markdown",
   "id": "d5ddc721",
   "metadata": {},
   "source": [
    "### Q.4: Brand names in which 2 ,3 or 4 sharks are invested? "
   ]
  },
  {
   "cell_type": "code",
   "execution_count": 19,
   "id": "a2f615cf",
   "metadata": {},
   "outputs": [
    {
     "name": "stdout",
     "output_type": "stream",
     "text": [
      "Brand in which number of sharks invested:\n",
      "                        brand_name  total_sharks_invested\n",
      "0              BluePine Industries                      3\n",
      "1                    Booz scooters                      2\n",
      "2              Heart up my Sleeves                      2\n",
      "3                            Cosiq                      2\n",
      "4                           Bummer                      2\n",
      "5                      Revamp Moto                      2\n",
      "6               Raising Superstars                      2\n",
      "7                     Beyond Snack                      2\n",
      "8   Vivalyf Innovations- Easy Life                      2\n",
      "9                            Altor                      2\n",
      "10                           Ariro                      2\n",
      "11                         Nuutjob                      3\n",
      "12                        Meatyour                      3\n",
      "13                       EventBeep                      3\n",
      "14                           Farda                      2\n",
      "15                            LOKA                      3\n",
      "16                           Annie                      3\n",
      "17                       Caragreen                      2\n",
      "18                 The Yarn Bazaar                      4\n",
      "19               The Renal Project                      2\n",
      "20                         Cocofit                      3\n",
      "21                    Bamboo India                      2\n",
      "22                    Beyond Water                      2\n",
      "23                       Let's Try                      2\n",
      "24                   Aas Vidyalaya                      3\n",
      "25                         WeSTOCK                      4\n",
      "26                      Get a Whey                      3\n",
      "27                 The Quirky Nari                      2\n",
      "28                  Hair Originals                      3\n",
      "29                    The Sass Bar                      2\n",
      "30              Watt Technovations                      4\n",
      "31                        Humpy A2                      3\n",
      "32        Gold Safe Solutions Ind.                      3\n",
      "33                     Wakao Foods                      3\n",
      "34                    Kabaddi Adda                      2\n",
      "35                      Tweek Labs                      3\n",
      "36                          Proxgy                      2\n",
      "37              Nomad Food Project                      4\n",
      "38                   Jain Shikanji                      4\n"
     ]
    }
   ],
   "source": [
    "brandname = data[(data['brand_name'].notnull()) & (data['total_sharks_invested'] <= 4) & (data['total_sharks_invested'] >1)]\n",
    "index_order = brandname[['brand_name', 'total_sharks_invested']].reset_index(drop=True)\n",
    "print('Brand in which number of sharks invested:')\n",
    "print(index_order)"
   ]
  },
  {
   "cell_type": "code",
   "execution_count": null,
   "id": "7466d866",
   "metadata": {},
   "outputs": [],
   "source": []
  },
  {
   "cell_type": "markdown",
   "id": "4be07061",
   "metadata": {},
   "source": [
    "### Q.5: Episode wise minimum and maximum of sharks invested?"
   ]
  },
  {
   "cell_type": "code",
   "execution_count": 20,
   "id": "32e498cc",
   "metadata": {},
   "outputs": [
    {
     "name": "stdout",
     "output_type": "stream",
     "text": [
      "Episode wise minimum and maximum sharks invested:\n",
      "    Episode Wise  Min Sharks Invested  Max Sharks Invested\n",
      "0              1                    2                    3\n",
      "1              2                    0                    1\n",
      "2              3                    0                    1\n",
      "3              4                    0                    2\n",
      "4              5                    0                    2\n",
      "5              6                    0                    5\n",
      "6              7                    0                    2\n",
      "7              8                    1                    2\n",
      "8              9                    0                    2\n",
      "9             10                    3                    3\n",
      "10            11                    0                    2\n",
      "11            12                    0                    3\n",
      "12            13                    2                    4\n",
      "13            14                    0                    2\n",
      "14            15                    1                    3\n",
      "15            16                    0                    2\n",
      "16            17                    0                    5\n",
      "17            18                    0                    1\n",
      "18            19                    0                    4\n",
      "19            20                    0                    5\n",
      "20            21                    1                    3\n",
      "21            22                    0                    3\n",
      "22            23                    0                    1\n",
      "23            24                    0                    2\n",
      "24            25                    0                    5\n",
      "25            26                    0                    1\n",
      "26            27                    0                    4\n",
      "27            28                    0                    3\n",
      "28            29                    0                    3\n",
      "29            30                    0                    2\n",
      "30            31                    0                    1\n",
      "31            32                    0                    1\n",
      "32            33                    0                    3\n",
      "33            34                    0                    4\n",
      "34            35                    0                    4\n"
     ]
    }
   ],
   "source": [
    "min_sharks_invested = data.groupby('episode_number')['total_sharks_invested'].min()\n",
    "max_sharks_invested = data.groupby('episode_number')['total_sharks_invested'].max()\n",
    "\n",
    "episode_wise_sharks = pd.DataFrame({\n",
    "    'Episode Wise': min_sharks_invested.index,\n",
    "    'Min Sharks Invested': min_sharks_invested.values,\n",
    "    'Max Sharks Invested': max_sharks_invested.values\n",
    "})\n",
    "\n",
    "print('Episode wise minimum and maximum sharks invested:')\n",
    "print(episode_wise_sharks)"
   ]
  },
  {
   "cell_type": "code",
   "execution_count": null,
   "id": "404bae07",
   "metadata": {},
   "outputs": [],
   "source": []
  },
  {
   "cell_type": "markdown",
   "id": "0c642425",
   "metadata": {},
   "source": [
    "### Q.6: Minimum and Maximum sharks invested in each episode?"
   ]
  },
  {
   "cell_type": "code",
   "execution_count": 21,
   "id": "07145d35",
   "metadata": {},
   "outputs": [
    {
     "name": "stdout",
     "output_type": "stream",
     "text": [
      "Episode-wise minimum and maximum sharks invested:\n",
      "    episode_number  min  max\n",
      "0                1    2    3\n",
      "1                2    0    1\n",
      "2                3    0    1\n",
      "3                4    0    2\n",
      "4                5    0    2\n",
      "5                6    0    5\n",
      "6                7    0    2\n",
      "7                8    1    2\n",
      "8                9    0    2\n",
      "9               10    3    3\n",
      "10              11    0    2\n",
      "11              12    0    3\n",
      "12              13    2    4\n",
      "13              14    0    2\n",
      "14              15    1    3\n",
      "15              16    0    2\n",
      "16              17    0    5\n",
      "17              18    0    1\n",
      "18              19    0    4\n",
      "19              20    0    5\n",
      "20              21    1    3\n",
      "21              22    0    3\n",
      "22              23    0    1\n",
      "23              24    0    2\n",
      "24              25    0    5\n",
      "25              26    0    1\n",
      "26              27    0    4\n",
      "27              28    0    3\n",
      "28              29    0    3\n",
      "29              30    0    2\n",
      "30              31    0    1\n",
      "31              32    0    1\n",
      "32              33    0    3\n",
      "33              34    0    4\n",
      "34              35    0    4\n"
     ]
    }
   ],
   "source": [
    "episode_wise_min_max = data.groupby('episode_number')['total_sharks_invested'].agg(['min', 'max']).reset_index()\n",
    "print('Episode-wise minimum and maximum sharks invested:')\n",
    "print(episode_wise_min_max)"
   ]
  },
  {
   "cell_type": "code",
   "execution_count": null,
   "id": "c542564e",
   "metadata": {},
   "outputs": [],
   "source": []
  },
  {
   "cell_type": "markdown",
   "id": "2c59440e",
   "metadata": {},
   "source": [
    "### Q.7: Brand names who ask for 1 crore and got a deal? "
   ]
  },
  {
   "cell_type": "code",
   "execution_count": 4,
   "id": "219e5a82",
   "metadata": {},
   "outputs": [
    {
     "name": "stdout",
     "output_type": "stream",
     "text": [
      "Brand names that asked for 1 crore and got a deal:\n",
      "0            Revamp Moto\n",
      "1     Raising Superstars\n",
      "2      The Renal Project\n",
      "3             Get a Whey\n",
      "4    Sunfox Technologies\n",
      "5     Insurance Samadhan\n",
      "Name: brand_name, dtype: object\n"
     ]
    }
   ],
   "source": [
    "brands_with_deal_1_crore = data[(data['pitcher_ask_amount'] == 100) & (data['deal_amount'] == 100)]\n",
    "brand_names_with_deal_1_crore = brands_with_deal_1_crore['brand_name'].reset_index(drop=True)\n",
    "print('Brand names that asked for 1 crore and got a deal:')\n",
    "print(brand_names_with_deal_1_crore)"
   ]
  },
  {
   "cell_type": "code",
   "execution_count": null,
   "id": "29b3cbf9",
   "metadata": {},
   "outputs": [],
   "source": []
  },
  {
   "cell_type": "markdown",
   "id": "f3134083",
   "metadata": {},
   "source": [
    "### Q.8: Brand names where deal equity is between 0 to 50? "
   ]
  },
  {
   "cell_type": "code",
   "execution_count": 6,
   "id": "30929439",
   "metadata": {},
   "outputs": [
    {
     "name": "stdout",
     "output_type": "stream",
     "text": [
      "Brand names where deal equity is between 0 to 50:\n",
      "0      BluePine Industries\n",
      "1            Booz scooters\n",
      "2      Heart up my Sleeves\n",
      "3               Tagz Foods\n",
      "4           Head and Heart\n",
      "              ...         \n",
      "111          Green Protein\n",
      "112                On2Cook\n",
      "113          Jain Shikanji\n",
      "114                  Woloo\n",
      "115           Elcare India\n",
      "Name: brand_name, Length: 116, dtype: object\n"
     ]
    }
   ],
   "source": [
    "brands_between_0_to_50 = data[(data['deal_equity'] >= 0) & (data['deal_equity'] <= 50)]\n",
    "brands_between_0_to_50 = brands_between_0_to_50['brand_name'].reset_index(drop=True)\n",
    "print('Brand names where deal equity is between 0 to 50:')\n",
    "print(brands_between_0_to_50)"
   ]
  },
  {
   "cell_type": "code",
   "execution_count": null,
   "id": "aa9d7791",
   "metadata": {},
   "outputs": [],
   "source": []
  },
  {
   "cell_type": "markdown",
   "id": "4d2d2268",
   "metadata": {},
   "source": [
    "### Q9. Find the number of brands participated in each episode? "
   ]
  },
  {
   "cell_type": "code",
   "execution_count": 7,
   "id": "0e41ff22",
   "metadata": {},
   "outputs": [
    {
     "name": "stdout",
     "output_type": "stream",
     "text": [
      "Number of brands participated in each episode:\n",
      "    episode_number  brand_name\n",
      "0                1           3\n",
      "1                2           3\n",
      "2                3           3\n",
      "3                4           3\n",
      "4                5           3\n",
      "5                6           3\n",
      "6                7           3\n",
      "7                8           3\n",
      "8                9           3\n",
      "9               10           3\n",
      "10              11           3\n",
      "11              12           3\n",
      "12              13           3\n",
      "13              14           3\n",
      "14              15           3\n",
      "15              16           4\n",
      "16              17           4\n",
      "17              18           4\n",
      "18              19           4\n",
      "19              20           3\n",
      "20              21           3\n",
      "21              22           4\n",
      "22              23           4\n",
      "23              24           3\n",
      "24              25           3\n",
      "25              26           3\n",
      "26              27           4\n",
      "27              28           3\n",
      "28              29           3\n",
      "29              30           4\n",
      "30              31           4\n",
      "31              32           4\n",
      "32              33           4\n",
      "33              34           4\n",
      "34              35           3\n"
     ]
    }
   ],
   "source": [
    "brands_participation = data.groupby('episode_number')['brand_name'].nunique().reset_index()\n",
    "print('Number of brands participated in each episode:')\n",
    "print(brands_participation)"
   ]
  },
  {
   "cell_type": "code",
   "execution_count": null,
   "id": "8f40717b",
   "metadata": {},
   "outputs": [],
   "source": []
  },
  {
   "cell_type": "markdown",
   "id": "4bea0bf3",
   "metadata": {},
   "source": [
    "### Q.10: How many sharks participated in this show and What were their names? "
   ]
  },
  {
   "cell_type": "code",
   "execution_count": 5,
   "id": "95e61415",
   "metadata": {},
   "outputs": [
    {
     "name": "stdout",
     "output_type": "stream",
     "text": [
      "Name of all Sharks who are present in this season:\n",
      " Index(['ashneer_present', 'anupam_present', 'aman_present', 'namita_present',\n",
      "       'vineeta_present', 'peyush_present', 'ghazal_present'],\n",
      "      dtype='object')\n",
      "Total number of sharks participated:  7\n"
     ]
    }
   ],
   "source": [
    "print(\"Name of all Sharks who are present in this season:\\n\",data.columns[11:18])\n",
    "print(\"Total number of sharks participated: \",len(data.columns[11:18]))"
   ]
  },
  {
   "cell_type": "code",
   "execution_count": null,
   "id": "97b378ba",
   "metadata": {},
   "outputs": [],
   "source": []
  },
  {
   "cell_type": "markdown",
   "id": "04c48246",
   "metadata": {},
   "source": [
    "### Q.11: Find appearance of each sharks? "
   ]
  },
  {
   "cell_type": "code",
   "execution_count": 4,
   "id": "c55f676b",
   "metadata": {},
   "outputs": [
    {
     "name": "stdout",
     "output_type": "stream",
     "text": [
      "ashneer_present Appearance : 98\n",
      "anupam_present Appearance : 117\n",
      "aman_present Appearance : 98\n",
      "namita_present Appearance : 106\n",
      "vineeta_present Appearance : 66\n",
      "peyush_present Appearance : 88\n",
      "ghazal_present Appearance : 26\n"
     ]
    }
   ],
   "source": [
    "for i in data.columns[11:18]:\n",
    "    x = data[i].sum()\n",
    "    print(f\"{i} Appearance : {x}\")"
   ]
  },
  {
   "cell_type": "code",
   "execution_count": null,
   "id": "094f0cd1",
   "metadata": {},
   "outputs": [],
   "source": []
  },
  {
   "cell_type": "markdown",
   "id": "c7112402",
   "metadata": {},
   "source": [
    "### Q.12: How many entrepreneurs were present? "
   ]
  },
  {
   "cell_type": "code",
   "execution_count": 7,
   "id": "503c9cf0",
   "metadata": {},
   "outputs": [
    {
     "name": "stdout",
     "output_type": "stream",
     "text": [
      "Number of Entrepreneurs present in this season:  117\n"
     ]
    }
   ],
   "source": [
    "Entrepreneurs_present= data[\"brand_name\"].nunique()\n",
    "print(\"Number of Entrepreneurs present in this season: \", Entrepreneurs_present)"
   ]
  },
  {
   "cell_type": "code",
   "execution_count": null,
   "id": "9832d06c",
   "metadata": {},
   "outputs": [],
   "source": []
  },
  {
   "cell_type": "markdown",
   "id": "d9d06d4d",
   "metadata": {},
   "source": [
    "### Q.13: How many times each shark invested the deal? "
   ]
  },
  {
   "cell_type": "code",
   "execution_count": 5,
   "id": "22ece62d",
   "metadata": {},
   "outputs": [
    {
     "name": "stdout",
     "output_type": "stream",
     "text": [
      "ashneer_deal total : 21\n",
      "anupam_deal total : 24\n",
      "aman_deal total : 28\n",
      "namita_deal total : 22\n",
      "vineeta_deal total : 15\n",
      "peyush_deal total : 27\n",
      "ghazal_deal total : 7\n"
     ]
    }
   ],
   "source": [
    "for i in data.columns[18:25]:\n",
    "    deal_count = data[i].sum()\n",
    "    print(f\"{i} total : {deal_count}\")"
   ]
  },
  {
   "cell_type": "code",
   "execution_count": null,
   "id": "7bce5685",
   "metadata": {},
   "outputs": [],
   "source": []
  },
  {
   "cell_type": "markdown",
   "id": "7c464c17",
   "metadata": {},
   "source": [
    "### Q.14: Find the equity percent that each sharks gets? "
   ]
  },
  {
   "cell_type": "code",
   "execution_count": 6,
   "id": "d86f6b47",
   "metadata": {},
   "outputs": [
    {
     "name": "stdout",
     "output_type": "stream",
     "text": [
      "The equity percent ashneer_deal gets: 14.27% of total equity\n",
      "The equity percent anupam_deal gets: 25.46% of total equity\n",
      "The equity percent aman_deal gets: 24.53% of total equity\n",
      "The equity percent namita_deal gets: 20.63% of total equity\n",
      "The equity percent vineeta_deal gets: 20.13% of total equity\n",
      "The equity percent peyush_deal gets: 48.35% of total equity\n",
      "The equity percent ghazal_deal gets: 7.15% of total equity\n"
     ]
    }
   ],
   "source": [
    "for i in data.columns[18:25]:\n",
    "    x = data[data[i] == 1]\n",
    "    total_equity = data[\"equity_per_shark\"].sum()\n",
    "    \n",
    "    if total_equity != 0:\n",
    "        percentage = (x[\"equity_per_shark\"].sum() / total_equity) * 100\n",
    "        print(\"The equity percent\", i, \"gets: {:.2f}% of total equity\".format(percentage))\n",
    "    else:\n",
    "        print(\"Total equity is zero.\")"
   ]
  },
  {
   "cell_type": "code",
   "execution_count": null,
   "id": "a8c417cf",
   "metadata": {},
   "outputs": [],
   "source": []
  },
  {
   "cell_type": "markdown",
   "id": "5a47e8d4",
   "metadata": {},
   "source": [
    "### Q.15: Find the total number of amount invested in this show? "
   ]
  },
  {
   "cell_type": "code",
   "execution_count": 10,
   "id": "c79f5efd",
   "metadata": {},
   "outputs": [
    {
     "name": "stdout",
     "output_type": "stream",
     "text": [
      "The total number of amount invested in this show:  3742.00106\n"
     ]
    }
   ],
   "source": [
    "Amount_invested = data[\"deal_amount\"].sum()\n",
    "print(\"The total number of amount invested in this show: \" , Amount_invested)"
   ]
  },
  {
   "cell_type": "code",
   "execution_count": null,
   "id": "0bcb72a7",
   "metadata": {},
   "outputs": [],
   "source": []
  }
 ],
 "metadata": {
  "kernelspec": {
   "display_name": "Python 3 (ipykernel)",
   "language": "python",
   "name": "python3"
  },
  "language_info": {
   "codemirror_mode": {
    "name": "ipython",
    "version": 3
   },
   "file_extension": ".py",
   "mimetype": "text/x-python",
   "name": "python",
   "nbconvert_exporter": "python",
   "pygments_lexer": "ipython3",
   "version": "3.11.5"
  }
 },
 "nbformat": 4,
 "nbformat_minor": 5
}
